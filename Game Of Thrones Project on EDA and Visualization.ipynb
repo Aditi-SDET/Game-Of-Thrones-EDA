{
 "cells": [
  {
   "cell_type": "code",
   "execution_count": 76,
   "id": "0ebe647b",
   "metadata": {},
   "outputs": [
    {
     "name": "stdout",
     "output_type": "stream",
     "text": [
      "73\n"
     ]
    }
   ],
   "source": [
    "import pandas as pd\n",
    "import numpy as np\n",
    "import matplotlib.pyplot as plt\n",
    "import seaborn as sns\n",
    "import gc\n",
    "gc.collect()\n",
    "\n",
    "\n",
    "chunksize=10\n",
    "missing_values=[\"Nan\",\"na\",\"NA\",\"-\",\"--\"]\n",
    "\n",
    "my_list=[]\n",
    "\n",
    "for chunk in pd.read_csv(r'C:\\Users\\adfatwan\\Downloads\\game of thrones.csv', chunksize=chunksize,na_values=missing_values):\n",
    "    my_list.append(chunk)\n",
    "    \n",
    "dataset=pd.concat(my_list,axis=0)\n",
    "print(len(dataset))\n",
    "    \n"
   ]
  },
  {
   "cell_type": "code",
   "execution_count": 77,
   "id": "bd78f422",
   "metadata": {},
   "outputs": [
    {
     "name": "stdout",
     "output_type": "stream",
     "text": [
      "<class 'pandas.core.frame.DataFrame'>\n",
      "RangeIndex: 73 entries, 0 to 72\n",
      "Data columns (total 10 columns):\n",
      " #   Column                  Non-Null Count  Dtype  \n",
      "---  ------                  --------------  -----  \n",
      " 0   No. overall             73 non-null     int64  \n",
      " 1   No. in season           73 non-null     int64  \n",
      " 2   Season                  73 non-null     int64  \n",
      " 3   Title                   73 non-null     object \n",
      " 4   Directed by             73 non-null     object \n",
      " 5   Written by              73 non-null     object \n",
      " 6   Novel(s) adapted        73 non-null     object \n",
      " 7   Original air date       61 non-null     object \n",
      " 8   U.S. viewers(millions)  70 non-null     float64\n",
      " 9   Imdb rating             73 non-null     float64\n",
      "dtypes: float64(2), int64(3), object(5)\n",
      "memory usage: 5.8+ KB\n"
     ]
    }
   ],
   "source": [
    "dataset.info()"
   ]
  },
  {
   "cell_type": "code",
   "execution_count": 78,
   "id": "24f36df2",
   "metadata": {},
   "outputs": [
    {
     "data": {
      "text/html": [
       "<div>\n",
       "<style scoped>\n",
       "    .dataframe tbody tr th:only-of-type {\n",
       "        vertical-align: middle;\n",
       "    }\n",
       "\n",
       "    .dataframe tbody tr th {\n",
       "        vertical-align: top;\n",
       "    }\n",
       "\n",
       "    .dataframe thead th {\n",
       "        text-align: right;\n",
       "    }\n",
       "</style>\n",
       "<table border=\"1\" class=\"dataframe\">\n",
       "  <thead>\n",
       "    <tr style=\"text-align: right;\">\n",
       "      <th></th>\n",
       "      <th>No. overall</th>\n",
       "      <th>No. in season</th>\n",
       "      <th>Season</th>\n",
       "      <th>Title</th>\n",
       "      <th>Directed by</th>\n",
       "      <th>Written by</th>\n",
       "      <th>Novel(s) adapted</th>\n",
       "      <th>Original air date</th>\n",
       "      <th>U.S. viewers(millions)</th>\n",
       "      <th>Imdb rating</th>\n",
       "    </tr>\n",
       "  </thead>\n",
       "  <tbody>\n",
       "    <tr>\n",
       "      <th>0</th>\n",
       "      <td>1</td>\n",
       "      <td>1</td>\n",
       "      <td>1</td>\n",
       "      <td>\"Winter Is Coming\"</td>\n",
       "      <td>Tim Van Patten</td>\n",
       "      <td>David Benioff &amp; D. B. Weiss</td>\n",
       "      <td>A Game of Thrones</td>\n",
       "      <td>17-Apr-11</td>\n",
       "      <td>2.22</td>\n",
       "      <td>9.1</td>\n",
       "    </tr>\n",
       "    <tr>\n",
       "      <th>1</th>\n",
       "      <td>2</td>\n",
       "      <td>2</td>\n",
       "      <td>1</td>\n",
       "      <td>\"The Kingsroad\"</td>\n",
       "      <td>Tim Van Patten</td>\n",
       "      <td>David Benioff &amp; D. B. Weiss</td>\n",
       "      <td>A Game of Thrones</td>\n",
       "      <td>24-Apr-11</td>\n",
       "      <td>2.20</td>\n",
       "      <td>8.8</td>\n",
       "    </tr>\n",
       "  </tbody>\n",
       "</table>\n",
       "</div>"
      ],
      "text/plain": [
       "   No. overall  No. in season  Season               Title     Directed by  \\\n",
       "0            1              1       1  \"Winter Is Coming\"  Tim Van Patten   \n",
       "1            2              2       1     \"The Kingsroad\"  Tim Van Patten   \n",
       "\n",
       "                    Written by   Novel(s) adapted Original air date  \\\n",
       "0  David Benioff & D. B. Weiss  A Game of Thrones         17-Apr-11   \n",
       "1  David Benioff & D. B. Weiss  A Game of Thrones         24-Apr-11   \n",
       "\n",
       "   U.S. viewers(millions)  Imdb rating  \n",
       "0                    2.22          9.1  \n",
       "1                    2.20          8.8  "
      ]
     },
     "execution_count": 78,
     "metadata": {},
     "output_type": "execute_result"
    }
   ],
   "source": [
    "dataset.head(2)   # Observation of data"
   ]
  },
  {
   "cell_type": "code",
   "execution_count": 79,
   "id": "567833d4",
   "metadata": {},
   "outputs": [
    {
     "data": {
      "text/plain": [
       "No. overall                0\n",
       "No. in season              0\n",
       "Season                     0\n",
       "Title                      0\n",
       "Directed by                0\n",
       "Written by                 0\n",
       "Novel(s) adapted           0\n",
       "Original air date         12\n",
       "U.S. viewers(millions)     3\n",
       "Imdb rating                0\n",
       "dtype: int64"
      ]
     },
     "execution_count": 79,
     "metadata": {},
     "output_type": "execute_result"
    }
   ],
   "source": [
    "# Checking misiing values\n",
    "dataset.isna().sum()   # We have Nulls in 2 columns\n"
   ]
  },
  {
   "cell_type": "code",
   "execution_count": 80,
   "id": "1dae9519",
   "metadata": {},
   "outputs": [],
   "source": [
    "# Fixing Missing values for column -- Original air date \n",
    "dataset.loc[dataset[\"No. overall\"]==7, [\"Original air date\"]]= \"29-May-11\"\n",
    "dataset.loc[dataset[\"No. overall\"]==12, [\"Original air date\"]]= \"08-Apr-12\"\n",
    "dataset.loc[dataset[\"No. overall\"]==13, [\"Original air date\"]]= \"15-Apr-12\"\n",
    "dataset.loc[dataset[\"No. overall\"]==17, [\"Original air date\"]]= \"13-Apr-12\"\n",
    "dataset.loc[dataset[\"No. overall\"]==27, [\"Original air date\"]]= \"12-May-13\"\n",
    "dataset.loc[dataset[\"No. overall\"]==37, [\"Original air date\"]]= \"18-May-14\"\n",
    "dataset.loc[dataset[\"No. overall\"]==47, [\"Original air date\"]]= \"24-May-15\"\n",
    "dataset.loc[dataset[\"No. overall\"]==48, [\"Original air date\"]]= \"31-May-15\"\n",
    "dataset.loc[dataset[\"No. overall\"]==55, [\"Original air date\"]]= \"22-May-16\"\n",
    "dataset.loc[dataset[\"No. overall\"]==56, [\"Original air date\"]]= \"29-May-16\" # CORRECTION OF WRONG DATA\n",
    "dataset.loc[dataset[\"No. overall\"]==61, [\"Original air date\"]]= \"16-Jul-17\"\n",
    "dataset.loc[dataset[\"No. overall\"]==68, [\"Original air date\"]]= \"14-Apr-19\"\n",
    "dataset.loc[dataset[\"No. overall\"]==69, [\"Original air date\"]]= \"21-Apr-19\"\n",
    "\n"
   ]
  },
  {
   "cell_type": "code",
   "execution_count": 81,
   "id": "34271135",
   "metadata": {},
   "outputs": [],
   "source": [
    "# Fixing Missing values for column -- U.S. viewers(millions) \n",
    "# Repalcing using mean\n",
    "S3=dataset[(dataset[\"Season\"]==3)] \n",
    "mean1=S3[\"U.S. viewers(millions)\"].mean()\n",
    "dataset.loc[(dataset[\"No. overall\"]==27), [\"U.S. viewers(millions)\"]]= mean1  # .fillna(mean,inplace=True)\n",
    "\n",
    "S4=dataset[(dataset[\"Season\"]==4)] \n",
    "mean2=S4[\"U.S. viewers(millions)\"].mean()\n",
    "dataset.loc[(dataset[\"No. overall\"]==39), [\"U.S. viewers(millions)\"]]= mean2  # .fillna(mean,inplace=True)\n",
    "\n",
    "S6=dataset[(dataset[\"Season\"]==6)]   #3, 4, 6\n",
    "mean3=S6[\"U.S. viewers(millions)\"].mean()\n",
    "dataset.loc[(dataset[\"No. overall\"]==56), [\"U.S. viewers(millions)\"]]= mean3  # .fillna(mean,inplace=True)\n"
   ]
  },
  {
   "cell_type": "code",
   "execution_count": 82,
   "id": "225830f0",
   "metadata": {},
   "outputs": [
    {
     "data": {
      "text/plain": [
       "No. overall               0\n",
       "No. in season             0\n",
       "Season                    0\n",
       "Title                     0\n",
       "Directed by               0\n",
       "Written by                0\n",
       "Novel(s) adapted          0\n",
       "Original air date         0\n",
       "U.S. viewers(millions)    0\n",
       "Imdb rating               0\n",
       "dtype: int64"
      ]
     },
     "execution_count": 82,
     "metadata": {},
     "output_type": "execute_result"
    }
   ],
   "source": [
    "# Check nulls again\n",
    "dataset.isna().sum()   # We have Nulls in 2 columns"
   ]
  },
  {
   "cell_type": "code",
   "execution_count": 93,
   "id": "2bf30943",
   "metadata": {},
   "outputs": [
    {
     "data": {
      "text/plain": [
       "Text(0, 0.5, 'No. Of Episodes')"
      ]
     },
     "execution_count": 93,
     "metadata": {},
     "output_type": "execute_result"
    },
    {
     "data": {
      "image/png": "[encoded data removed]",
      "text/plain": [
       "<Figure size 1080x432 with 1 Axes>"
      ]
     },
     "metadata": {
      "needs_background": "light"
     },
     "output_type": "display_data"
    }
   ],
   "source": [
    "# No of episodes directed by whom to see the frequency\n",
    "import seaborn as sns\n",
    "plt.figure(figsize=(15,6))\n",
    "sns.countplot(data=dataset, x=\"Directed by\")\n",
    "plt.xticks(rotation=90,fontsize=14)\n",
    "plt.xlabel(\"Directors\", fontsize=15)\n",
    "plt.ylabel(\"No. Of Episodes\", fontsize=15)\n"
   ]
  },
  {
   "cell_type": "code",
   "execution_count": 95,
   "id": "aa570e68",
   "metadata": {},
   "outputs": [
    {
     "data": {
      "text/plain": [
       "Text(0, 0.5, 'No. Of Episodes')"
      ]
     },
     "execution_count": 95,
     "metadata": {},
     "output_type": "execute_result"
    },
    {
     "data": {
      "image/png": "[encoded data removed]",
      "text/plain": [
       "<Figure size 1080x432 with 1 Axes>"
      ]
     },
     "metadata": {
      "needs_background": "light"
     },
     "output_type": "display_data"
    }
   ],
   "source": [
    "# No of episodes written by whom to see the frequency\n",
    "import seaborn as sns\n",
    "plt.figure(figsize=(15,6))\n",
    "sns.countplot(data=dataset, x=\"Written by\")\n",
    "plt.xticks(rotation=90,fontsize=14)\n",
    "plt.xlabel(\"Writters\", fontsize=15)\n",
    "plt.ylabel(\"No. Of Episodes\", fontsize=15)"
   ]
  },
  {
   "cell_type": "code",
   "execution_count": 102,
   "id": "b549ab5b",
   "metadata": {},
   "outputs": [
    {
     "data": {
      "text/plain": [
       "Text(0.5, 1.0, 'Most watched season was Season 7 with highest viewers and lowest imdb rating')"
      ]
     },
     "execution_count": 102,
     "metadata": {},
     "output_type": "execute_result"
    },
    {
     "data": {
      "image/png": "[encoded data removed]",
      "text/plain": [
       "<Figure size 1080x432 with 1 Axes>"
      ]
     },
     "metadata": {
      "needs_background": "light"
     },
     "output_type": "display_data"
    }
   ],
   "source": [
    "import seaborn as sns\n",
    "plt.figure(figsize=(15,6))\n",
    "sns.scatterplot(data=dataset, x=\"Imdb rating\", y=\"U.S. viewers(millions)\", hue=\"Season\")\n",
    "plt.xticks(rotation=90,fontsize=14)\n",
    "plt.xlabel(\"Imdb rating\", fontsize=15)\n",
    "plt.ylabel(\"Viewers\", fontsize=15)\n",
    "plt.title(\"Most watched season was Season 7 with highest viewers and lowest imdb rating\")"
   ]
  },
  {
   "cell_type": "code",
   "execution_count": 103,
   "id": "ae6edf61",
   "metadata": {},
   "outputs": [
    {
     "data": {
      "text/html": [
       "<div>\n",
       "<style scoped>\n",
       "    .dataframe tbody tr th:only-of-type {\n",
       "        vertical-align: middle;\n",
       "    }\n",
       "\n",
       "    .dataframe tbody tr th {\n",
       "        vertical-align: top;\n",
       "    }\n",
       "\n",
       "    .dataframe thead th {\n",
       "        text-align: right;\n",
       "    }\n",
       "</style>\n",
       "<table border=\"1\" class=\"dataframe\">\n",
       "  <thead>\n",
       "    <tr style=\"text-align: right;\">\n",
       "      <th></th>\n",
       "      <th>No. overall</th>\n",
       "      <th>No. in season</th>\n",
       "      <th>Season</th>\n",
       "      <th>Title</th>\n",
       "      <th>Directed by</th>\n",
       "      <th>Written by</th>\n",
       "      <th>Novel(s) adapted</th>\n",
       "      <th>Original air date</th>\n",
       "      <th>U.S. viewers(millions)</th>\n",
       "      <th>Imdb rating</th>\n",
       "    </tr>\n",
       "  </thead>\n",
       "  <tbody>\n",
       "    <tr>\n",
       "      <th>72</th>\n",
       "      <td>73</td>\n",
       "      <td>6</td>\n",
       "      <td>8</td>\n",
       "      <td>\"The Iron Throne\"</td>\n",
       "      <td>David Benioff &amp; D. B. Weiss</td>\n",
       "      <td>David Benioff &amp; D. B. Weiss</td>\n",
       "      <td>Outline from A Dream of Spring and original co...</td>\n",
       "      <td>19-May-19</td>\n",
       "      <td>13.61</td>\n",
       "      <td>4.0</td>\n",
       "    </tr>\n",
       "  </tbody>\n",
       "</table>\n",
       "</div>"
      ],
      "text/plain": [
       "    No. overall  No. in season  Season              Title  \\\n",
       "72           73              6       8  \"The Iron Throne\"   \n",
       "\n",
       "                    Directed by                   Written by  \\\n",
       "72  David Benioff & D. B. Weiss  David Benioff & D. B. Weiss   \n",
       "\n",
       "                                     Novel(s) adapted Original air date  \\\n",
       "72  Outline from A Dream of Spring and original co...         19-May-19   \n",
       "\n",
       "    U.S. viewers(millions)  Imdb rating  \n",
       "72                   13.61          4.0  "
      ]
     },
     "execution_count": 103,
     "metadata": {},
     "output_type": "execute_result"
    }
   ],
   "source": [
    "dataset.nlargest(1,\"U.S. viewers(millions)\")  #### Most Viewed episode"
   ]
  },
  {
   "cell_type": "code",
   "execution_count": 104,
   "id": "5ea344ac",
   "metadata": {},
   "outputs": [
    {
     "data": {
      "text/html": [
       "<div>\n",
       "<style scoped>\n",
       "    .dataframe tbody tr th:only-of-type {\n",
       "        vertical-align: middle;\n",
       "    }\n",
       "\n",
       "    .dataframe tbody tr th {\n",
       "        vertical-align: top;\n",
       "    }\n",
       "\n",
       "    .dataframe thead th {\n",
       "        text-align: right;\n",
       "    }\n",
       "</style>\n",
       "<table border=\"1\" class=\"dataframe\">\n",
       "  <thead>\n",
       "    <tr style=\"text-align: right;\">\n",
       "      <th></th>\n",
       "      <th>No. overall</th>\n",
       "      <th>No. in season</th>\n",
       "      <th>Season</th>\n",
       "      <th>Title</th>\n",
       "      <th>Directed by</th>\n",
       "      <th>Written by</th>\n",
       "      <th>Novel(s) adapted</th>\n",
       "      <th>Original air date</th>\n",
       "      <th>U.S. viewers(millions)</th>\n",
       "      <th>Imdb rating</th>\n",
       "    </tr>\n",
       "  </thead>\n",
       "  <tbody>\n",
       "    <tr>\n",
       "      <th>1</th>\n",
       "      <td>2</td>\n",
       "      <td>2</td>\n",
       "      <td>1</td>\n",
       "      <td>\"The Kingsroad\"</td>\n",
       "      <td>Tim Van Patten</td>\n",
       "      <td>David Benioff &amp; D. B. Weiss</td>\n",
       "      <td>A Game of Thrones</td>\n",
       "      <td>24-Apr-11</td>\n",
       "      <td>2.2</td>\n",
       "      <td>8.8</td>\n",
       "    </tr>\n",
       "  </tbody>\n",
       "</table>\n",
       "</div>"
      ],
      "text/plain": [
       "   No. overall  No. in season  Season            Title     Directed by  \\\n",
       "1            2              2       1  \"The Kingsroad\"  Tim Van Patten   \n",
       "\n",
       "                    Written by   Novel(s) adapted Original air date  \\\n",
       "1  David Benioff & D. B. Weiss  A Game of Thrones         24-Apr-11   \n",
       "\n",
       "   U.S. viewers(millions)  Imdb rating  \n",
       "1                     2.2          8.8  "
      ]
     },
     "execution_count": 104,
     "metadata": {},
     "output_type": "execute_result"
    }
   ],
   "source": [
    "dataset.nsmallest(1,\"U.S. viewers(millions)\")  #### Least Viewed episode"
   ]
  },
  {
   "cell_type": "code",
   "execution_count": 106,
   "id": "7b7315cc",
   "metadata": {},
   "outputs": [
    {
     "data": {
      "text/html": [
       "<div>\n",
       "<style scoped>\n",
       "    .dataframe tbody tr th:only-of-type {\n",
       "        vertical-align: middle;\n",
       "    }\n",
       "\n",
       "    .dataframe tbody tr th {\n",
       "        vertical-align: top;\n",
       "    }\n",
       "\n",
       "    .dataframe thead th {\n",
       "        text-align: right;\n",
       "    }\n",
       "</style>\n",
       "<table border=\"1\" class=\"dataframe\">\n",
       "  <thead>\n",
       "    <tr style=\"text-align: right;\">\n",
       "      <th></th>\n",
       "      <th>No. overall</th>\n",
       "      <th>No. in season</th>\n",
       "      <th>Season</th>\n",
       "      <th>Title</th>\n",
       "      <th>Directed by</th>\n",
       "      <th>Written by</th>\n",
       "      <th>Novel(s) adapted</th>\n",
       "      <th>Original air date</th>\n",
       "      <th>U.S. viewers(millions)</th>\n",
       "      <th>Imdb rating</th>\n",
       "    </tr>\n",
       "  </thead>\n",
       "  <tbody>\n",
       "    <tr>\n",
       "      <th>28</th>\n",
       "      <td>29</td>\n",
       "      <td>9</td>\n",
       "      <td>3</td>\n",
       "      <td>\"The Rains of Castamere\"</td>\n",
       "      <td>David Nutter</td>\n",
       "      <td>David Benioff &amp; D. B. Weiss</td>\n",
       "      <td>A Storm of Swords</td>\n",
       "      <td>2-Jun-13</td>\n",
       "      <td>5.22</td>\n",
       "      <td>9.9</td>\n",
       "    </tr>\n",
       "  </tbody>\n",
       "</table>\n",
       "</div>"
      ],
      "text/plain": [
       "    No. overall  No. in season  Season                     Title  \\\n",
       "28           29              9       3  \"The Rains of Castamere\"   \n",
       "\n",
       "     Directed by                   Written by   Novel(s) adapted  \\\n",
       "28  David Nutter  David Benioff & D. B. Weiss  A Storm of Swords   \n",
       "\n",
       "   Original air date  U.S. viewers(millions)  Imdb rating  \n",
       "28          2-Jun-13                    5.22          9.9  "
      ]
     },
     "execution_count": 106,
     "metadata": {},
     "output_type": "execute_result"
    }
   ],
   "source": [
    "dataset.nlargest(1,\"Imdb rating\")  #### Highest rated episode"
   ]
  },
  {
   "cell_type": "code",
   "execution_count": 107,
   "id": "357b7121",
   "metadata": {},
   "outputs": [
    {
     "data": {
      "text/html": [
       "<div>\n",
       "<style scoped>\n",
       "    .dataframe tbody tr th:only-of-type {\n",
       "        vertical-align: middle;\n",
       "    }\n",
       "\n",
       "    .dataframe tbody tr th {\n",
       "        vertical-align: top;\n",
       "    }\n",
       "\n",
       "    .dataframe thead th {\n",
       "        text-align: right;\n",
       "    }\n",
       "</style>\n",
       "<table border=\"1\" class=\"dataframe\">\n",
       "  <thead>\n",
       "    <tr style=\"text-align: right;\">\n",
       "      <th></th>\n",
       "      <th>No. overall</th>\n",
       "      <th>No. in season</th>\n",
       "      <th>Season</th>\n",
       "      <th>Title</th>\n",
       "      <th>Directed by</th>\n",
       "      <th>Written by</th>\n",
       "      <th>Novel(s) adapted</th>\n",
       "      <th>Original air date</th>\n",
       "      <th>U.S. viewers(millions)</th>\n",
       "      <th>Imdb rating</th>\n",
       "    </tr>\n",
       "  </thead>\n",
       "  <tbody>\n",
       "    <tr>\n",
       "      <th>72</th>\n",
       "      <td>73</td>\n",
       "      <td>6</td>\n",
       "      <td>8</td>\n",
       "      <td>\"The Iron Throne\"</td>\n",
       "      <td>David Benioff &amp; D. B. Weiss</td>\n",
       "      <td>David Benioff &amp; D. B. Weiss</td>\n",
       "      <td>Outline from A Dream of Spring and original co...</td>\n",
       "      <td>19-May-19</td>\n",
       "      <td>13.61</td>\n",
       "      <td>4.0</td>\n",
       "    </tr>\n",
       "  </tbody>\n",
       "</table>\n",
       "</div>"
      ],
      "text/plain": [
       "    No. overall  No. in season  Season              Title  \\\n",
       "72           73              6       8  \"The Iron Throne\"   \n",
       "\n",
       "                    Directed by                   Written by  \\\n",
       "72  David Benioff & D. B. Weiss  David Benioff & D. B. Weiss   \n",
       "\n",
       "                                     Novel(s) adapted Original air date  \\\n",
       "72  Outline from A Dream of Spring and original co...         19-May-19   \n",
       "\n",
       "    U.S. viewers(millions)  Imdb rating  \n",
       "72                   13.61          4.0  "
      ]
     },
     "execution_count": 107,
     "metadata": {},
     "output_type": "execute_result"
    }
   ],
   "source": [
    "dataset.nsmallest(1,\"Imdb rating\")  #### Highest rated episode\n"
   ]
  },
  {
   "cell_type": "code",
   "execution_count": 125,
   "id": "9db6c8a4",
   "metadata": {},
   "outputs": [
    {
     "data": {
      "text/html": [
       "<div>\n",
       "<style scoped>\n",
       "    .dataframe tbody tr th:only-of-type {\n",
       "        vertical-align: middle;\n",
       "    }\n",
       "\n",
       "    .dataframe tbody tr th {\n",
       "        vertical-align: top;\n",
       "    }\n",
       "\n",
       "    .dataframe thead th {\n",
       "        text-align: right;\n",
       "    }\n",
       "</style>\n",
       "<table border=\"1\" class=\"dataframe\">\n",
       "  <thead>\n",
       "    <tr style=\"text-align: right;\">\n",
       "      <th></th>\n",
       "      <th>No. overall</th>\n",
       "      <th>No. in season</th>\n",
       "      <th>U.S. viewers(millions)</th>\n",
       "      <th>Imdb rating</th>\n",
       "    </tr>\n",
       "    <tr>\n",
       "      <th>Season</th>\n",
       "      <th></th>\n",
       "      <th></th>\n",
       "      <th></th>\n",
       "      <th></th>\n",
       "    </tr>\n",
       "  </thead>\n",
       "  <tbody>\n",
       "    <tr>\n",
       "      <th>6</th>\n",
       "      <td>555</td>\n",
       "      <td>55</td>\n",
       "      <td>77.966667</td>\n",
       "      <td>90.6</td>\n",
       "    </tr>\n",
       "  </tbody>\n",
       "</table>\n",
       "</div>"
      ],
      "text/plain": [
       "        No. overall  No. in season  U.S. viewers(millions)  Imdb rating\n",
       "Season                                                                 \n",
       "6               555             55               77.966667         90.6"
      ]
     },
     "execution_count": 125,
     "metadata": {},
     "output_type": "execute_result"
    }
   ],
   "source": [
    "# Most viewed season\n",
    "dataset_season=dataset.groupby(\"Season\")\n",
    "dataset_views= dataset_season.sum(\"U.S. viewers(millions)\")\n",
    "dataset_views.nlargest(1,\"U.S. viewers(millions)\")"
   ]
  },
  {
   "cell_type": "code",
   "execution_count": 127,
   "id": "10f6bb87",
   "metadata": {},
   "outputs": [
    {
     "data": {
      "text/html": [
       "<div>\n",
       "<style scoped>\n",
       "    .dataframe tbody tr th:only-of-type {\n",
       "        vertical-align: middle;\n",
       "    }\n",
       "\n",
       "    .dataframe tbody tr th {\n",
       "        vertical-align: top;\n",
       "    }\n",
       "\n",
       "    .dataframe thead th {\n",
       "        text-align: right;\n",
       "    }\n",
       "</style>\n",
       "<table border=\"1\" class=\"dataframe\">\n",
       "  <thead>\n",
       "    <tr style=\"text-align: right;\">\n",
       "      <th></th>\n",
       "      <th>No. overall</th>\n",
       "      <th>No. in season</th>\n",
       "      <th>U.S. viewers(millions)</th>\n",
       "      <th>Imdb rating</th>\n",
       "    </tr>\n",
       "    <tr>\n",
       "      <th>Season</th>\n",
       "      <th></th>\n",
       "      <th></th>\n",
       "      <th></th>\n",
       "      <th></th>\n",
       "    </tr>\n",
       "  </thead>\n",
       "  <tbody>\n",
       "    <tr>\n",
       "      <th>1</th>\n",
       "      <td>55</td>\n",
       "      <td>55</td>\n",
       "      <td>25.15</td>\n",
       "      <td>91.0</td>\n",
       "    </tr>\n",
       "  </tbody>\n",
       "</table>\n",
       "</div>"
      ],
      "text/plain": [
       "        No. overall  No. in season  U.S. viewers(millions)  Imdb rating\n",
       "Season                                                                 \n",
       "1                55             55                   25.15         91.0"
      ]
     },
     "execution_count": 127,
     "metadata": {},
     "output_type": "execute_result"
    }
   ],
   "source": [
    "# Least viewed season\n",
    "dataset_views.nsmallest(1,\"U.S. viewers(millions)\")"
   ]
  },
  {
   "cell_type": "code",
   "execution_count": 130,
   "id": "c69de3b8",
   "metadata": {},
   "outputs": [
    {
     "data": {
      "text/html": [
       "<div>\n",
       "<style scoped>\n",
       "    .dataframe tbody tr th:only-of-type {\n",
       "        vertical-align: middle;\n",
       "    }\n",
       "\n",
       "    .dataframe tbody tr th {\n",
       "        vertical-align: top;\n",
       "    }\n",
       "\n",
       "    .dataframe thead th {\n",
       "        text-align: right;\n",
       "    }\n",
       "</style>\n",
       "<table border=\"1\" class=\"dataframe\">\n",
       "  <thead>\n",
       "    <tr style=\"text-align: right;\">\n",
       "      <th></th>\n",
       "      <th>No. overall</th>\n",
       "      <th>No. in season</th>\n",
       "      <th>U.S. viewers(millions)</th>\n",
       "      <th>Imdb rating</th>\n",
       "    </tr>\n",
       "    <tr>\n",
       "      <th>Season</th>\n",
       "      <th></th>\n",
       "      <th></th>\n",
       "      <th></th>\n",
       "      <th></th>\n",
       "    </tr>\n",
       "  </thead>\n",
       "  <tbody>\n",
       "    <tr>\n",
       "      <th>4</th>\n",
       "      <td>355</td>\n",
       "      <td>55</td>\n",
       "      <td>68.344444</td>\n",
       "      <td>93.1</td>\n",
       "    </tr>\n",
       "  </tbody>\n",
       "</table>\n",
       "</div>"
      ],
      "text/plain": [
       "        No. overall  No. in season  U.S. viewers(millions)  Imdb rating\n",
       "Season                                                                 \n",
       "4               355             55               68.344444         93.1"
      ]
     },
     "execution_count": 130,
     "metadata": {},
     "output_type": "execute_result"
    }
   ],
   "source": [
    "# Largest rated season\n",
    "dataset_views.nlargest(1, \"Imdb rating\")"
   ]
  },
  {
   "cell_type": "code",
   "execution_count": 131,
   "id": "3e3971e8",
   "metadata": {},
   "outputs": [
    {
     "data": {
      "text/html": [
       "<div>\n",
       "<style scoped>\n",
       "    .dataframe tbody tr th:only-of-type {\n",
       "        vertical-align: middle;\n",
       "    }\n",
       "\n",
       "    .dataframe tbody tr th {\n",
       "        vertical-align: top;\n",
       "    }\n",
       "\n",
       "    .dataframe thead th {\n",
       "        text-align: right;\n",
       "    }\n",
       "</style>\n",
       "<table border=\"1\" class=\"dataframe\">\n",
       "  <thead>\n",
       "    <tr style=\"text-align: right;\">\n",
       "      <th></th>\n",
       "      <th>No. overall</th>\n",
       "      <th>No. in season</th>\n",
       "      <th>U.S. viewers(millions)</th>\n",
       "      <th>Imdb rating</th>\n",
       "    </tr>\n",
       "    <tr>\n",
       "      <th>Season</th>\n",
       "      <th></th>\n",
       "      <th></th>\n",
       "      <th></th>\n",
       "      <th></th>\n",
       "    </tr>\n",
       "  </thead>\n",
       "  <tbody>\n",
       "    <tr>\n",
       "      <th>8</th>\n",
       "      <td>423</td>\n",
       "      <td>21</td>\n",
       "      <td>71.96</td>\n",
       "      <td>38.0</td>\n",
       "    </tr>\n",
       "  </tbody>\n",
       "</table>\n",
       "</div>"
      ],
      "text/plain": [
       "        No. overall  No. in season  U.S. viewers(millions)  Imdb rating\n",
       "Season                                                                 \n",
       "8               423             21                   71.96         38.0"
      ]
     },
     "execution_count": 131,
     "metadata": {},
     "output_type": "execute_result"
    }
   ],
   "source": [
    "# least rated season\n",
    "dataset_views.nsmallest(1, \"Imdb rating\")"
   ]
  },
  {
   "cell_type": "code",
   "execution_count": 138,
   "id": "651a2892",
   "metadata": {},
   "outputs": [
    {
     "data": {
      "text/plain": [
       "Text(0.5, 1.0, 'Season vs Episode')"
      ]
     },
     "execution_count": 138,
     "metadata": {},
     "output_type": "execute_result"
    },
    {
     "data": {
      "image/png": "[encoded data removed]",
      "text/plain": [
       "<Figure size 1500x900 with 1 Axes>"
      ]
     },
     "metadata": {
      "needs_background": "light"
     },
     "output_type": "display_data"
    }
   ],
   "source": [
    "fig, ax = plt.subplots(figsize=(10,6),dpi=150)\n",
    "sns.scatterplot(data=dataset, x=\"Season\", y=\"U.S. viewers(millions)\", hue='Season')\n",
    "plt.title(\"Season vs Episode\")\n",
    "# with every episode Viewers have increased"
   ]
  },
  {
   "cell_type": "code",
   "execution_count": 139,
   "id": "1a2ecc6a",
   "metadata": {},
   "outputs": [
    {
     "data": {
      "text/html": [
       "<div>\n",
       "<style scoped>\n",
       "    .dataframe tbody tr th:only-of-type {\n",
       "        vertical-align: middle;\n",
       "    }\n",
       "\n",
       "    .dataframe tbody tr th {\n",
       "        vertical-align: top;\n",
       "    }\n",
       "\n",
       "    .dataframe thead th {\n",
       "        text-align: right;\n",
       "    }\n",
       "</style>\n",
       "<table border=\"1\" class=\"dataframe\">\n",
       "  <thead>\n",
       "    <tr style=\"text-align: right;\">\n",
       "      <th></th>\n",
       "      <th>No. overall</th>\n",
       "      <th>No. in season</th>\n",
       "      <th>Season</th>\n",
       "      <th>Title</th>\n",
       "      <th>Directed by</th>\n",
       "      <th>Written by</th>\n",
       "      <th>Novel(s) adapted</th>\n",
       "      <th>Original air date</th>\n",
       "      <th>U.S. viewers(millions)</th>\n",
       "      <th>Imdb rating</th>\n",
       "    </tr>\n",
       "  </thead>\n",
       "  <tbody>\n",
       "    <tr>\n",
       "      <th>0</th>\n",
       "      <td>1</td>\n",
       "      <td>1</td>\n",
       "      <td>1</td>\n",
       "      <td>\"Winter Is Coming\"</td>\n",
       "      <td>Tim Van Patten</td>\n",
       "      <td>David Benioff &amp; D. B. Weiss</td>\n",
       "      <td>A Game of Thrones</td>\n",
       "      <td>17-Apr-11</td>\n",
       "      <td>2.22</td>\n",
       "      <td>9.1</td>\n",
       "    </tr>\n",
       "    <tr>\n",
       "      <th>1</th>\n",
       "      <td>2</td>\n",
       "      <td>2</td>\n",
       "      <td>1</td>\n",
       "      <td>\"The Kingsroad\"</td>\n",
       "      <td>Tim Van Patten</td>\n",
       "      <td>David Benioff &amp; D. B. Weiss</td>\n",
       "      <td>A Game of Thrones</td>\n",
       "      <td>24-Apr-11</td>\n",
       "      <td>2.20</td>\n",
       "      <td>8.8</td>\n",
       "    </tr>\n",
       "    <tr>\n",
       "      <th>2</th>\n",
       "      <td>3</td>\n",
       "      <td>3</td>\n",
       "      <td>1</td>\n",
       "      <td>\"Lord Snow\"</td>\n",
       "      <td>Brian Kirk</td>\n",
       "      <td>David Benioff &amp; D. B. Weiss</td>\n",
       "      <td>A Game of Thrones</td>\n",
       "      <td>1-May-11</td>\n",
       "      <td>2.44</td>\n",
       "      <td>8.7</td>\n",
       "    </tr>\n",
       "    <tr>\n",
       "      <th>3</th>\n",
       "      <td>4</td>\n",
       "      <td>4</td>\n",
       "      <td>1</td>\n",
       "      <td>\"Cripples, Bastards, and Broken Things\"</td>\n",
       "      <td>Brian Kirk</td>\n",
       "      <td>Bryan Cogman</td>\n",
       "      <td>A Game of Thrones</td>\n",
       "      <td>8-May-11</td>\n",
       "      <td>2.45</td>\n",
       "      <td>8.8</td>\n",
       "    </tr>\n",
       "    <tr>\n",
       "      <th>4</th>\n",
       "      <td>5</td>\n",
       "      <td>5</td>\n",
       "      <td>1</td>\n",
       "      <td>\"The Wolf and the Lion\"</td>\n",
       "      <td>Brian Kirk</td>\n",
       "      <td>David Benioff &amp; D. B. Weiss</td>\n",
       "      <td>A Game of Thrones</td>\n",
       "      <td>15-May-11</td>\n",
       "      <td>2.58</td>\n",
       "      <td>9.1</td>\n",
       "    </tr>\n",
       "    <tr>\n",
       "      <th>...</th>\n",
       "      <td>...</td>\n",
       "      <td>...</td>\n",
       "      <td>...</td>\n",
       "      <td>...</td>\n",
       "      <td>...</td>\n",
       "      <td>...</td>\n",
       "      <td>...</td>\n",
       "      <td>...</td>\n",
       "      <td>...</td>\n",
       "      <td>...</td>\n",
       "    </tr>\n",
       "    <tr>\n",
       "      <th>68</th>\n",
       "      <td>69</td>\n",
       "      <td>2</td>\n",
       "      <td>8</td>\n",
       "      <td>\"A Knight of the Seven Kingdoms\"</td>\n",
       "      <td>David Nutter</td>\n",
       "      <td>Bryan Cogman</td>\n",
       "      <td>Outline from A Dream of Spring and original co...</td>\n",
       "      <td>21-Apr-19</td>\n",
       "      <td>10.29</td>\n",
       "      <td>7.8</td>\n",
       "    </tr>\n",
       "    <tr>\n",
       "      <th>69</th>\n",
       "      <td>70</td>\n",
       "      <td>3</td>\n",
       "      <td>8</td>\n",
       "      <td>\"The Long Night\"</td>\n",
       "      <td>Miguel Sapochnik</td>\n",
       "      <td>David Benioff &amp; D. B. Weiss</td>\n",
       "      <td>Outline from A Dream of Spring and original co...</td>\n",
       "      <td>28-Apr-19</td>\n",
       "      <td>12.02</td>\n",
       "      <td>7.4</td>\n",
       "    </tr>\n",
       "    <tr>\n",
       "      <th>70</th>\n",
       "      <td>71</td>\n",
       "      <td>4</td>\n",
       "      <td>8</td>\n",
       "      <td>\"The Last of the Starks\"</td>\n",
       "      <td>David Nutter</td>\n",
       "      <td>David Benioff &amp; D. B. Weiss</td>\n",
       "      <td>Outline from A Dream of Spring and original co...</td>\n",
       "      <td>5-May-19</td>\n",
       "      <td>11.80</td>\n",
       "      <td>5.4</td>\n",
       "    </tr>\n",
       "    <tr>\n",
       "      <th>71</th>\n",
       "      <td>72</td>\n",
       "      <td>5</td>\n",
       "      <td>8</td>\n",
       "      <td>\"The Bells\"</td>\n",
       "      <td>Miguel Sapochnik</td>\n",
       "      <td>David Benioff &amp; D. B. Weiss</td>\n",
       "      <td>Outline from A Dream of Spring and original co...</td>\n",
       "      <td>12-May-19</td>\n",
       "      <td>12.48</td>\n",
       "      <td>5.9</td>\n",
       "    </tr>\n",
       "    <tr>\n",
       "      <th>72</th>\n",
       "      <td>73</td>\n",
       "      <td>6</td>\n",
       "      <td>8</td>\n",
       "      <td>\"The Iron Throne\"</td>\n",
       "      <td>David Benioff &amp; D. B. Weiss</td>\n",
       "      <td>David Benioff &amp; D. B. Weiss</td>\n",
       "      <td>Outline from A Dream of Spring and original co...</td>\n",
       "      <td>19-May-19</td>\n",
       "      <td>13.61</td>\n",
       "      <td>4.0</td>\n",
       "    </tr>\n",
       "  </tbody>\n",
       "</table>\n",
       "<p>73 rows × 10 columns</p>\n",
       "</div>"
      ],
      "text/plain": [
       "    No. overall  No. in season  Season  \\\n",
       "0             1              1       1   \n",
       "1             2              2       1   \n",
       "2             3              3       1   \n",
       "3             4              4       1   \n",
       "4             5              5       1   \n",
       "..          ...            ...     ...   \n",
       "68           69              2       8   \n",
       "69           70              3       8   \n",
       "70           71              4       8   \n",
       "71           72              5       8   \n",
       "72           73              6       8   \n",
       "\n",
       "                                      Title                  Directed by  \\\n",
       "0                        \"Winter Is Coming\"               Tim Van Patten   \n",
       "1                           \"The Kingsroad\"               Tim Van Patten   \n",
       "2                               \"Lord Snow\"                   Brian Kirk   \n",
       "3   \"Cripples, Bastards, and Broken Things\"                   Brian Kirk   \n",
       "4                   \"The Wolf and the Lion\"                   Brian Kirk   \n",
       "..                                      ...                          ...   \n",
       "68         \"A Knight of the Seven Kingdoms\"                 David Nutter   \n",
       "69                         \"The Long Night\"             Miguel Sapochnik   \n",
       "70                 \"The Last of the Starks\"                 David Nutter   \n",
       "71                              \"The Bells\"             Miguel Sapochnik   \n",
       "72                        \"The Iron Throne\"  David Benioff & D. B. Weiss   \n",
       "\n",
       "                     Written by  \\\n",
       "0   David Benioff & D. B. Weiss   \n",
       "1   David Benioff & D. B. Weiss   \n",
       "2   David Benioff & D. B. Weiss   \n",
       "3                  Bryan Cogman   \n",
       "4   David Benioff & D. B. Weiss   \n",
       "..                          ...   \n",
       "68                 Bryan Cogman   \n",
       "69  David Benioff & D. B. Weiss   \n",
       "70  David Benioff & D. B. Weiss   \n",
       "71  David Benioff & D. B. Weiss   \n",
       "72  David Benioff & D. B. Weiss   \n",
       "\n",
       "                                     Novel(s) adapted Original air date  \\\n",
       "0                                   A Game of Thrones         17-Apr-11   \n",
       "1                                   A Game of Thrones         24-Apr-11   \n",
       "2                                   A Game of Thrones          1-May-11   \n",
       "3                                   A Game of Thrones          8-May-11   \n",
       "4                                   A Game of Thrones         15-May-11   \n",
       "..                                                ...               ...   \n",
       "68  Outline from A Dream of Spring and original co...         21-Apr-19   \n",
       "69  Outline from A Dream of Spring and original co...         28-Apr-19   \n",
       "70  Outline from A Dream of Spring and original co...          5-May-19   \n",
       "71  Outline from A Dream of Spring and original co...         12-May-19   \n",
       "72  Outline from A Dream of Spring and original co...         19-May-19   \n",
       "\n",
       "    U.S. viewers(millions)  Imdb rating  \n",
       "0                     2.22          9.1  \n",
       "1                     2.20          8.8  \n",
       "2                     2.44          8.7  \n",
       "3                     2.45          8.8  \n",
       "4                     2.58          9.1  \n",
       "..                     ...          ...  \n",
       "68                   10.29          7.8  \n",
       "69                   12.02          7.4  \n",
       "70                   11.80          5.4  \n",
       "71                   12.48          5.9  \n",
       "72                   13.61          4.0  \n",
       "\n",
       "[73 rows x 10 columns]"
      ]
     },
     "execution_count": 139,
     "metadata": {},
     "output_type": "execute_result"
    }
   ],
   "source": [
    "dataset"
   ]
  },
  {
   "cell_type": "code",
   "execution_count": null,
   "id": "f6454028",
   "metadata": {},
   "outputs": [],
   "source": []
  }
 ],
 "metadata": {
  "kernelspec": {
   "display_name": "Python 3 (ipykernel)",
   "language": "python",
   "name": "python3"
  },
  "language_info": {
   "codemirror_mode": {
    "name": "ipython",
    "version": 3
   },
   "file_extension": ".py",
   "mimetype": "text/x-python",
   "name": "python",
   "nbconvert_exporter": "python",
   "pygments_lexer": "ipython3",
   "version": "3.9.7"
  }
 },
 "nbformat": 4,
 "nbformat_minor": 5
}
